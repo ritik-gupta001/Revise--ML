{
 "cells": [
  {
   "cell_type": "code",
   "execution_count": 90,
   "id": "a4a92bf0-5e35-45ee-a9a4-beb0e8116488",
   "metadata": {},
   "outputs": [],
   "source": [
    "import numpy as np\n",
    "import pandas as pd"
   ]
  },
  {
   "cell_type": "code",
   "execution_count": 91,
   "id": "e3d18e3f-a344-4114-aadc-1f8366a71805",
   "metadata": {},
   "outputs": [
    {
     "data": {
      "text/html": [
       "<div>\n",
       "<style scoped>\n",
       "    .dataframe tbody tr th:only-of-type {\n",
       "        vertical-align: middle;\n",
       "    }\n",
       "\n",
       "    .dataframe tbody tr th {\n",
       "        vertical-align: top;\n",
       "    }\n",
       "\n",
       "    .dataframe thead th {\n",
       "        text-align: right;\n",
       "    }\n",
       "</style>\n",
       "<table border=\"1\" class=\"dataframe\">\n",
       "  <thead>\n",
       "    <tr style=\"text-align: right;\">\n",
       "      <th></th>\n",
       "      <th>country</th>\n",
       "      <th>country_long</th>\n",
       "      <th>currency</th>\n",
       "      <th>capital_city</th>\n",
       "      <th>region</th>\n",
       "      <th>continent</th>\n",
       "      <th>demonym</th>\n",
       "      <th>latitude</th>\n",
       "      <th>longitude</th>\n",
       "      <th>agricultural_land</th>\n",
       "      <th>...</th>\n",
       "      <th>population</th>\n",
       "      <th>women_parliament_seats_pct</th>\n",
       "      <th>rural_population</th>\n",
       "      <th>urban_population</th>\n",
       "      <th>press</th>\n",
       "      <th>democracy_score</th>\n",
       "      <th>democracy_type</th>\n",
       "      <th>median_age</th>\n",
       "      <th>political_leader</th>\n",
       "      <th>title</th>\n",
       "    </tr>\n",
       "  </thead>\n",
       "  <tbody>\n",
       "    <tr>\n",
       "      <th>62</th>\n",
       "      <td>Georgia</td>\n",
       "      <td>Georgia</td>\n",
       "      <td>Georgian lari</td>\n",
       "      <td>Tbilisi</td>\n",
       "      <td>Western Asia</td>\n",
       "      <td>Asia</td>\n",
       "      <td>Georgian</td>\n",
       "      <td>42.000000</td>\n",
       "      <td>43.500000</td>\n",
       "      <td>23779.0</td>\n",
       "      <td>...</td>\n",
       "      <td>3712502</td>\n",
       "      <td>19.04760</td>\n",
       "      <td>1473975</td>\n",
       "      <td>2238527</td>\n",
       "      <td>2.70</td>\n",
       "      <td>5.50</td>\n",
       "      <td>Hybrid regime</td>\n",
       "      <td>32.5</td>\n",
       "      <td>Giorgi Gakharia</td>\n",
       "      <td>Prime Minister</td>\n",
       "    </tr>\n",
       "    <tr>\n",
       "      <th>152</th>\n",
       "      <td>Slovenia</td>\n",
       "      <td>Republic of Slovenia</td>\n",
       "      <td>Euro</td>\n",
       "      <td>Ljubljana</td>\n",
       "      <td>Southern Europe</td>\n",
       "      <td>Europe</td>\n",
       "      <td>Slovene</td>\n",
       "      <td>46.116667</td>\n",
       "      <td>14.816667</td>\n",
       "      <td>6104.9</td>\n",
       "      <td>...</td>\n",
       "      <td>2108732</td>\n",
       "      <td>40.00000</td>\n",
       "      <td>933093</td>\n",
       "      <td>1175639</td>\n",
       "      <td>3.51</td>\n",
       "      <td>7.50</td>\n",
       "      <td>Flawed democracy</td>\n",
       "      <td>39.5</td>\n",
       "      <td>Janez Janša</td>\n",
       "      <td>Prime Minister</td>\n",
       "    </tr>\n",
       "    <tr>\n",
       "      <th>100</th>\n",
       "      <td>Madagascar</td>\n",
       "      <td>Republic of Madagascar</td>\n",
       "      <td>Malagasy ariary</td>\n",
       "      <td>Antananarivo</td>\n",
       "      <td>Eastern Africa</td>\n",
       "      <td>Africa</td>\n",
       "      <td>Malagasy</td>\n",
       "      <td>-20.000000</td>\n",
       "      <td>47.000000</td>\n",
       "      <td>408950.0</td>\n",
       "      <td>...</td>\n",
       "      <td>29611714</td>\n",
       "      <td>18.54300</td>\n",
       "      <td>17801970</td>\n",
       "      <td>11809744</td>\n",
       "      <td>2.82</td>\n",
       "      <td>5.22</td>\n",
       "      <td>Hybrid regime</td>\n",
       "      <td>15.1</td>\n",
       "      <td>Andry Rajoelina</td>\n",
       "      <td>President</td>\n",
       "    </tr>\n",
       "    <tr>\n",
       "      <th>10</th>\n",
       "      <td>Azerbaijan</td>\n",
       "      <td>Republic of Azerbaijan</td>\n",
       "      <td>New Azeri manat</td>\n",
       "      <td>Baku</td>\n",
       "      <td>Western Asia</td>\n",
       "      <td>Asia</td>\n",
       "      <td>Azerbaijani</td>\n",
       "      <td>40.500000</td>\n",
       "      <td>47.500000</td>\n",
       "      <td>47801.0</td>\n",
       "      <td>...</td>\n",
       "      <td>10175016</td>\n",
       "      <td>18.33330</td>\n",
       "      <td>4357959</td>\n",
       "      <td>5817057</td>\n",
       "      <td>1.32</td>\n",
       "      <td>2.65</td>\n",
       "      <td>Authoritarian</td>\n",
       "      <td>27.9</td>\n",
       "      <td>Ilham Aliyev</td>\n",
       "      <td>President</td>\n",
       "    </tr>\n",
       "    <tr>\n",
       "      <th>77</th>\n",
       "      <td>Iran</td>\n",
       "      <td>Islamic Republic of Iran</td>\n",
       "      <td>Iranian rial</td>\n",
       "      <td>Tehran</td>\n",
       "      <td>Southern Asia</td>\n",
       "      <td>Asia</td>\n",
       "      <td>Iranian</td>\n",
       "      <td>32.000000</td>\n",
       "      <td>53.000000</td>\n",
       "      <td>470130.0</td>\n",
       "      <td>...</td>\n",
       "      <td>88550570</td>\n",
       "      <td>5.59441</td>\n",
       "      <td>20537534</td>\n",
       "      <td>68013036</td>\n",
       "      <td>1.21</td>\n",
       "      <td>2.45</td>\n",
       "      <td>Authoritarian</td>\n",
       "      <td>28.4</td>\n",
       "      <td>Ali Khamenei</td>\n",
       "      <td>Supreme Leader</td>\n",
       "    </tr>\n",
       "  </tbody>\n",
       "</table>\n",
       "<p>5 rows × 64 columns</p>\n",
       "</div>"
      ],
      "text/plain": [
       "        country              country_long         currency  capital_city  \\\n",
       "62      Georgia                   Georgia    Georgian lari       Tbilisi   \n",
       "152    Slovenia      Republic of Slovenia             Euro     Ljubljana   \n",
       "100  Madagascar    Republic of Madagascar  Malagasy ariary  Antananarivo   \n",
       "10   Azerbaijan    Republic of Azerbaijan  New Azeri manat          Baku   \n",
       "77         Iran  Islamic Republic of Iran     Iranian rial        Tehran   \n",
       "\n",
       "              region continent      demonym   latitude  longitude  \\\n",
       "62      Western Asia      Asia     Georgian  42.000000  43.500000   \n",
       "152  Southern Europe    Europe      Slovene  46.116667  14.816667   \n",
       "100   Eastern Africa    Africa     Malagasy -20.000000  47.000000   \n",
       "10      Western Asia      Asia  Azerbaijani  40.500000  47.500000   \n",
       "77     Southern Asia      Asia      Iranian  32.000000  53.000000   \n",
       "\n",
       "     agricultural_land  ...  population  women_parliament_seats_pct  \\\n",
       "62             23779.0  ...     3712502                    19.04760   \n",
       "152             6104.9  ...     2108732                    40.00000   \n",
       "100           408950.0  ...    29611714                    18.54300   \n",
       "10             47801.0  ...    10175016                    18.33330   \n",
       "77            470130.0  ...    88550570                     5.59441   \n",
       "\n",
       "     rural_population  urban_population  press  democracy_score  \\\n",
       "62            1473975           2238527   2.70             5.50   \n",
       "152            933093           1175639   3.51             7.50   \n",
       "100          17801970          11809744   2.82             5.22   \n",
       "10            4357959           5817057   1.32             2.65   \n",
       "77           20537534          68013036   1.21             2.45   \n",
       "\n",
       "       democracy_type  median_age  political_leader           title  \n",
       "62      Hybrid regime        32.5   Giorgi Gakharia  Prime Minister  \n",
       "152  Flawed democracy        39.5       Janez Janša  Prime Minister  \n",
       "100     Hybrid regime        15.1   Andry Rajoelina       President  \n",
       "10      Authoritarian        27.9      Ilham Aliyev       President  \n",
       "77      Authoritarian        28.4      Ali Khamenei  Supreme Leader  \n",
       "\n",
       "[5 rows x 64 columns]"
      ]
     },
     "execution_count": 91,
     "metadata": {},
     "output_type": "execute_result"
    }
   ],
   "source": [
    "df=pd.read_csv(r\"Countries-checkpoint.csv\")\n",
    "df.sample(5)"
   ]
  },
  {
   "cell_type": "code",
   "execution_count": 92,
   "id": "a92e567d-f871-4e05-b402-ce45d1385703",
   "metadata": {},
   "outputs": [
    {
     "data": {
      "text/plain": [
       "(194, 64)"
      ]
     },
     "execution_count": 92,
     "metadata": {},
     "output_type": "execute_result"
    }
   ],
   "source": [
    "df.shape"
   ]
  },
  {
   "cell_type": "code",
   "execution_count": 93,
   "id": "5c9c02ad-c6f3-4024-8fff-c322ef0b2112",
   "metadata": {},
   "outputs": [
    {
     "name": "stdout",
     "output_type": "stream",
     "text": [
      "<class 'pandas.core.frame.DataFrame'>\n",
      "RangeIndex: 194 entries, 0 to 193\n",
      "Data columns (total 64 columns):\n",
      " #   Column                                   Non-Null Count  Dtype  \n",
      "---  ------                                   --------------  -----  \n",
      " 0   country                                  194 non-null    object \n",
      " 1   country_long                             194 non-null    object \n",
      " 2   currency                                 194 non-null    object \n",
      " 3   capital_city                             194 non-null    object \n",
      " 4   region                                   194 non-null    object \n",
      " 5   continent                                194 non-null    object \n",
      " 6   demonym                                  194 non-null    object \n",
      " 7   latitude                                 194 non-null    float64\n",
      " 8   longitude                                194 non-null    float64\n",
      " 9   agricultural_land                        193 non-null    float64\n",
      " 10  forest_area                              194 non-null    float64\n",
      " 11  land_area                                194 non-null    float64\n",
      " 12  rural_land                               194 non-null    float64\n",
      " 13  urban_land                               194 non-null    float64\n",
      " 14  central_government_debt_pct_gdp          120 non-null    float64\n",
      " 15  expense_pct_gdp                          156 non-null    float64\n",
      " 16  gdp                                      193 non-null    float64\n",
      " 17  inflation                                184 non-null    float64\n",
      " 18  self_employed_pct                        179 non-null    float64\n",
      " 19  tax_revenue_pct_gdp                      159 non-null    float64\n",
      " 20  unemployment_pct                         179 non-null    float64\n",
      " 21  vulnerable_employment_pct                179 non-null    float64\n",
      " 22  electricity_access_pct                   194 non-null    float64\n",
      " 23  alternative_nuclear_energy_pct           138 non-null    float64\n",
      " 24  electricty_production_coal_pct           138 non-null    float64\n",
      " 25  electricty_production_hydroelectric_pct  138 non-null    float64\n",
      " 26  electricty_production_gas_pct            138 non-null    float64\n",
      " 27  electricty_production_nuclear_pct        138 non-null    float64\n",
      " 28  electricty_production_oil_pct            138 non-null    float64\n",
      " 29  electricty_production_renewable_pct      138 non-null    float64\n",
      " 30  energy_imports_pct                       138 non-null    float64\n",
      " 31  fossil_energy_consumption_pct            168 non-null    float64\n",
      " 32  renewable_energy_consumption_pct         192 non-null    float64\n",
      " 33  co2_emissions                            191 non-null    float64\n",
      " 34  methane_emissions                        191 non-null    float64\n",
      " 35  nitrous_oxide_emissions                  191 non-null    float64\n",
      " 36  greenhouse_other_emissions               184 non-null    float64\n",
      " 37  urban_population_under_5m                194 non-null    float64\n",
      " 38  health_expenditure_pct_gdp               190 non-null    float64\n",
      " 39  health_expenditure_capita                190 non-null    float64\n",
      " 40  hospital_beds                            192 non-null    float64\n",
      " 41  hiv_incidence                            133 non-null    float64\n",
      " 42  suicide_rate                             183 non-null    float64\n",
      " 43  armed_forces                             174 non-null    float64\n",
      " 44  internally_displaced_persons             73 non-null     float64\n",
      " 45  military_expenditure_pct_gdp             163 non-null    float64\n",
      " 46  birth_rate                               194 non-null    float64\n",
      " 47  death_rate                               194 non-null    float64\n",
      " 48  fertility_rate                           193 non-null    float64\n",
      " 49  internet_pct                             194 non-null    float64\n",
      " 50  life_expectancy                          191 non-null    float64\n",
      " 51  net_migration                            194 non-null    int64  \n",
      " 52  population_female                        194 non-null    int64  \n",
      " 53  population_male                          194 non-null    int64  \n",
      " 54  population                               194 non-null    int64  \n",
      " 55  women_parliament_seats_pct               193 non-null    float64\n",
      " 56  rural_population                         194 non-null    int64  \n",
      " 57  urban_population                         194 non-null    int64  \n",
      " 58  press                                    194 non-null    float64\n",
      " 59  democracy_score                          194 non-null    float64\n",
      " 60  democracy_type                           194 non-null    object \n",
      " 61  median_age                               194 non-null    float64\n",
      " 62  political_leader                         187 non-null    object \n",
      " 63  title                                    187 non-null    object \n",
      "dtypes: float64(48), int64(6), object(10)\n",
      "memory usage: 97.1+ KB\n"
     ]
    }
   ],
   "source": [
    "df.info()"
   ]
  },
  {
   "cell_type": "code",
   "execution_count": 94,
   "id": "8fa81d04-3694-4d2a-92c7-33539b90ecc7",
   "metadata": {},
   "outputs": [
    {
     "data": {
      "text/html": [
       "<div>\n",
       "<style scoped>\n",
       "    .dataframe tbody tr th:only-of-type {\n",
       "        vertical-align: middle;\n",
       "    }\n",
       "\n",
       "    .dataframe tbody tr th {\n",
       "        vertical-align: top;\n",
       "    }\n",
       "\n",
       "    .dataframe thead th {\n",
       "        text-align: right;\n",
       "    }\n",
       "</style>\n",
       "<table border=\"1\" class=\"dataframe\">\n",
       "  <thead>\n",
       "    <tr style=\"text-align: right;\">\n",
       "      <th></th>\n",
       "      <th>latitude</th>\n",
       "      <th>longitude</th>\n",
       "      <th>agricultural_land</th>\n",
       "      <th>forest_area</th>\n",
       "      <th>land_area</th>\n",
       "      <th>rural_land</th>\n",
       "      <th>urban_land</th>\n",
       "      <th>central_government_debt_pct_gdp</th>\n",
       "      <th>expense_pct_gdp</th>\n",
       "      <th>gdp</th>\n",
       "      <th>...</th>\n",
       "      <th>net_migration</th>\n",
       "      <th>population_female</th>\n",
       "      <th>population_male</th>\n",
       "      <th>population</th>\n",
       "      <th>women_parliament_seats_pct</th>\n",
       "      <th>rural_population</th>\n",
       "      <th>urban_population</th>\n",
       "      <th>press</th>\n",
       "      <th>democracy_score</th>\n",
       "      <th>median_age</th>\n",
       "    </tr>\n",
       "  </thead>\n",
       "  <tbody>\n",
       "    <tr>\n",
       "      <th>count</th>\n",
       "      <td>194.000000</td>\n",
       "      <td>194.000000</td>\n",
       "      <td>1.930000e+02</td>\n",
       "      <td>1.940000e+02</td>\n",
       "      <td>1.940000e+02</td>\n",
       "      <td>1.940000e+02</td>\n",
       "      <td>194.000000</td>\n",
       "      <td>120.000000</td>\n",
       "      <td>156.000000</td>\n",
       "      <td>1.930000e+02</td>\n",
       "      <td>...</td>\n",
       "      <td>194.000000</td>\n",
       "      <td>1.940000e+02</td>\n",
       "      <td>1.940000e+02</td>\n",
       "      <td>1.940000e+02</td>\n",
       "      <td>193.000000</td>\n",
       "      <td>1.940000e+02</td>\n",
       "      <td>1.940000e+02</td>\n",
       "      <td>194.000000</td>\n",
       "      <td>194.000000</td>\n",
       "      <td>194.000000</td>\n",
       "    </tr>\n",
       "    <tr>\n",
       "      <th>mean</th>\n",
       "      <td>18.975601</td>\n",
       "      <td>22.027491</td>\n",
       "      <td>2.454551e+05</td>\n",
       "      <td>2.086784e+05</td>\n",
       "      <td>6.675087e+05</td>\n",
       "      <td>6.563711e+05</td>\n",
       "      <td>9777.116531</td>\n",
       "      <td>66.759366</td>\n",
       "      <td>30.051403</td>\n",
       "      <td>5.144851e+11</td>\n",
       "      <td>...</td>\n",
       "      <td>-51.407216</td>\n",
       "      <td>2.028316e+07</td>\n",
       "      <td>2.050572e+07</td>\n",
       "      <td>4.078888e+07</td>\n",
       "      <td>25.022994</td>\n",
       "      <td>1.763322e+07</td>\n",
       "      <td>2.315566e+07</td>\n",
       "      <td>2.539330</td>\n",
       "      <td>4.644536</td>\n",
       "      <td>25.661856</td>\n",
       "    </tr>\n",
       "    <tr>\n",
       "      <th>std</th>\n",
       "      <td>23.876225</td>\n",
       "      <td>66.396389</td>\n",
       "      <td>6.356268e+05</td>\n",
       "      <td>7.824926e+05</td>\n",
       "      <td>1.837107e+06</td>\n",
       "      <td>1.811169e+06</td>\n",
       "      <td>42301.458421</td>\n",
       "      <td>71.806247</td>\n",
       "      <td>26.740880</td>\n",
       "      <td>2.307148e+12</td>\n",
       "      <td>...</td>\n",
       "      <td>94525.968598</td>\n",
       "      <td>7.258941e+07</td>\n",
       "      <td>7.607158e+07</td>\n",
       "      <td>1.486470e+08</td>\n",
       "      <td>12.671044</td>\n",
       "      <td>7.664187e+07</td>\n",
       "      <td>7.940393e+07</td>\n",
       "      <td>1.800128</td>\n",
       "      <td>2.818297</td>\n",
       "      <td>9.415569</td>\n",
       "    </tr>\n",
       "    <tr>\n",
       "      <th>min</th>\n",
       "      <td>-41.000000</td>\n",
       "      <td>-175.000000</td>\n",
       "      <td>4.000000e+00</td>\n",
       "      <td>0.000000e+00</td>\n",
       "      <td>2.027000e+00</td>\n",
       "      <td>3.495450e-02</td>\n",
       "      <td>0.000000</td>\n",
       "      <td>0.000000</td>\n",
       "      <td>0.000267</td>\n",
       "      <td>6.034940e+07</td>\n",
       "      <td>...</td>\n",
       "      <td>-525116.000000</td>\n",
       "      <td>5.513000e+03</td>\n",
       "      <td>5.799000e+03</td>\n",
       "      <td>1.131200e+04</td>\n",
       "      <td>0.000000</td>\n",
       "      <td>0.000000e+00</td>\n",
       "      <td>5.717000e+03</td>\n",
       "      <td>0.000000</td>\n",
       "      <td>0.000000</td>\n",
       "      <td>10.500000</td>\n",
       "    </tr>\n",
       "    <tr>\n",
       "      <th>25%</th>\n",
       "      <td>4.000000</td>\n",
       "      <td>-5.000000</td>\n",
       "      <td>6.464000e+03</td>\n",
       "      <td>3.331775e+03</td>\n",
       "      <td>2.355250e+04</td>\n",
       "      <td>2.186562e+04</td>\n",
       "      <td>359.618250</td>\n",
       "      <td>31.951300</td>\n",
       "      <td>18.371875</td>\n",
       "      <td>1.181390e+10</td>\n",
       "      <td>...</td>\n",
       "      <td>-12242.250000</td>\n",
       "      <td>1.036218e+06</td>\n",
       "      <td>1.044902e+06</td>\n",
       "      <td>2.106358e+06</td>\n",
       "      <td>15.384600</td>\n",
       "      <td>5.896640e+05</td>\n",
       "      <td>1.222244e+06</td>\n",
       "      <td>1.525000</td>\n",
       "      <td>2.722500</td>\n",
       "      <td>16.950000</td>\n",
       "    </tr>\n",
       "    <tr>\n",
       "      <th>50%</th>\n",
       "      <td>16.583333</td>\n",
       "      <td>21.500000</td>\n",
       "      <td>3.872780e+04</td>\n",
       "      <td>2.528925e+04</td>\n",
       "      <td>1.203750e+05</td>\n",
       "      <td>1.159945e+05</td>\n",
       "      <td>1645.170000</td>\n",
       "      <td>55.426850</td>\n",
       "      <td>27.337750</td>\n",
       "      <td>4.115390e+10</td>\n",
       "      <td>...</td>\n",
       "      <td>-970.000000</td>\n",
       "      <td>4.502713e+06</td>\n",
       "      <td>4.450049e+06</td>\n",
       "      <td>9.125614e+06</td>\n",
       "      <td>25.252500</td>\n",
       "      <td>2.512382e+06</td>\n",
       "      <td>4.508837e+06</td>\n",
       "      <td>2.400000</td>\n",
       "      <td>5.050000</td>\n",
       "      <td>24.950000</td>\n",
       "    </tr>\n",
       "    <tr>\n",
       "      <th>75%</th>\n",
       "      <td>40.000000</td>\n",
       "      <td>50.162500</td>\n",
       "      <td>2.150000e+05</td>\n",
       "      <td>1.236735e+05</td>\n",
       "      <td>5.237000e+05</td>\n",
       "      <td>4.911505e+05</td>\n",
       "      <td>4054.022500</td>\n",
       "      <td>79.539300</td>\n",
       "      <td>35.083500</td>\n",
       "      <td>2.519450e+11</td>\n",
       "      <td>...</td>\n",
       "      <td>2904.250000</td>\n",
       "      <td>1.526606e+07</td>\n",
       "      <td>1.478872e+07</td>\n",
       "      <td>3.031361e+07</td>\n",
       "      <td>33.636400</td>\n",
       "      <td>1.133354e+07</td>\n",
       "      <td>1.621355e+07</td>\n",
       "      <td>2.925000</td>\n",
       "      <td>6.967500</td>\n",
       "      <td>34.050000</td>\n",
       "    </tr>\n",
       "    <tr>\n",
       "      <th>max</th>\n",
       "      <td>65.000000</td>\n",
       "      <td>178.000000</td>\n",
       "      <td>5.285080e+06</td>\n",
       "      <td>8.153120e+06</td>\n",
       "      <td>1.637690e+07</td>\n",
       "      <td>1.622420e+07</td>\n",
       "      <td>522345.000000</td>\n",
       "      <td>687.994000</td>\n",
       "      <td>310.443000</td>\n",
       "      <td>2.546270e+13</td>\n",
       "      <td>...</td>\n",
       "      <td>561580.000000</td>\n",
       "      <td>6.915285e+08</td>\n",
       "      <td>7.311805e+08</td>\n",
       "      <td>1.417173e+09</td>\n",
       "      <td>61.250000</td>\n",
       "      <td>9.088048e+08</td>\n",
       "      <td>8.975784e+08</td>\n",
       "      <td>10.000000</td>\n",
       "      <td>9.870000</td>\n",
       "      <td>50.500000</td>\n",
       "    </tr>\n",
       "  </tbody>\n",
       "</table>\n",
       "<p>8 rows × 54 columns</p>\n",
       "</div>"
      ],
      "text/plain": [
       "         latitude   longitude  agricultural_land   forest_area     land_area  \\\n",
       "count  194.000000  194.000000       1.930000e+02  1.940000e+02  1.940000e+02   \n",
       "mean    18.975601   22.027491       2.454551e+05  2.086784e+05  6.675087e+05   \n",
       "std     23.876225   66.396389       6.356268e+05  7.824926e+05  1.837107e+06   \n",
       "min    -41.000000 -175.000000       4.000000e+00  0.000000e+00  2.027000e+00   \n",
       "25%      4.000000   -5.000000       6.464000e+03  3.331775e+03  2.355250e+04   \n",
       "50%     16.583333   21.500000       3.872780e+04  2.528925e+04  1.203750e+05   \n",
       "75%     40.000000   50.162500       2.150000e+05  1.236735e+05  5.237000e+05   \n",
       "max     65.000000  178.000000       5.285080e+06  8.153120e+06  1.637690e+07   \n",
       "\n",
       "         rural_land     urban_land  central_government_debt_pct_gdp  \\\n",
       "count  1.940000e+02     194.000000                       120.000000   \n",
       "mean   6.563711e+05    9777.116531                        66.759366   \n",
       "std    1.811169e+06   42301.458421                        71.806247   \n",
       "min    3.495450e-02       0.000000                         0.000000   \n",
       "25%    2.186562e+04     359.618250                        31.951300   \n",
       "50%    1.159945e+05    1645.170000                        55.426850   \n",
       "75%    4.911505e+05    4054.022500                        79.539300   \n",
       "max    1.622420e+07  522345.000000                       687.994000   \n",
       "\n",
       "       expense_pct_gdp           gdp  ...  net_migration  population_female  \\\n",
       "count       156.000000  1.930000e+02  ...     194.000000       1.940000e+02   \n",
       "mean         30.051403  5.144851e+11  ...     -51.407216       2.028316e+07   \n",
       "std          26.740880  2.307148e+12  ...   94525.968598       7.258941e+07   \n",
       "min           0.000267  6.034940e+07  ... -525116.000000       5.513000e+03   \n",
       "25%          18.371875  1.181390e+10  ...  -12242.250000       1.036218e+06   \n",
       "50%          27.337750  4.115390e+10  ...    -970.000000       4.502713e+06   \n",
       "75%          35.083500  2.519450e+11  ...    2904.250000       1.526606e+07   \n",
       "max         310.443000  2.546270e+13  ...  561580.000000       6.915285e+08   \n",
       "\n",
       "       population_male    population  women_parliament_seats_pct  \\\n",
       "count     1.940000e+02  1.940000e+02                  193.000000   \n",
       "mean      2.050572e+07  4.078888e+07                   25.022994   \n",
       "std       7.607158e+07  1.486470e+08                   12.671044   \n",
       "min       5.799000e+03  1.131200e+04                    0.000000   \n",
       "25%       1.044902e+06  2.106358e+06                   15.384600   \n",
       "50%       4.450049e+06  9.125614e+06                   25.252500   \n",
       "75%       1.478872e+07  3.031361e+07                   33.636400   \n",
       "max       7.311805e+08  1.417173e+09                   61.250000   \n",
       "\n",
       "       rural_population  urban_population       press  democracy_score  \\\n",
       "count      1.940000e+02      1.940000e+02  194.000000       194.000000   \n",
       "mean       1.763322e+07      2.315566e+07    2.539330         4.644536   \n",
       "std        7.664187e+07      7.940393e+07    1.800128         2.818297   \n",
       "min        0.000000e+00      5.717000e+03    0.000000         0.000000   \n",
       "25%        5.896640e+05      1.222244e+06    1.525000         2.722500   \n",
       "50%        2.512382e+06      4.508837e+06    2.400000         5.050000   \n",
       "75%        1.133354e+07      1.621355e+07    2.925000         6.967500   \n",
       "max        9.088048e+08      8.975784e+08   10.000000         9.870000   \n",
       "\n",
       "       median_age  \n",
       "count  194.000000  \n",
       "mean    25.661856  \n",
       "std      9.415569  \n",
       "min     10.500000  \n",
       "25%     16.950000  \n",
       "50%     24.950000  \n",
       "75%     34.050000  \n",
       "max     50.500000  \n",
       "\n",
       "[8 rows x 54 columns]"
      ]
     },
     "execution_count": 94,
     "metadata": {},
     "output_type": "execute_result"
    }
   ],
   "source": [
    "df.describe()"
   ]
  },
  {
   "cell_type": "code",
   "execution_count": null,
   "id": "0774f568-3404-412b-870f-551df4962117",
   "metadata": {},
   "outputs": [],
   "source": []
  },
  {
   "cell_type": "code",
   "execution_count": null,
   "id": "ac341ae0-a447-423f-aab7-82724674aa8f",
   "metadata": {},
   "outputs": [],
   "source": []
  },
  {
   "cell_type": "code",
   "execution_count": 95,
   "id": "72712f92-1a07-4dc2-99e5-01622f61df67",
   "metadata": {},
   "outputs": [
    {
     "data": {
      "text/plain": [
       "75    India\n",
       "Name: country, dtype: object"
      ]
     },
     "execution_count": 95,
     "metadata": {},
     "output_type": "execute_result"
    }
   ],
   "source": [
    "# which country has highest population\n",
    "df[df[\"population\"]==df[\"population\"].max()][\"country\"]"
   ]
  },
  {
   "cell_type": "code",
   "execution_count": 96,
   "id": "3b631e4c-a435-4e85-a7e5-632aaf30218c",
   "metadata": {},
   "outputs": [
    {
     "data": {
      "text/plain": [
       "75    New Delhi\n",
       "Name: capital_city, dtype: object"
      ]
     },
     "execution_count": 96,
     "metadata": {},
     "output_type": "execute_result"
    }
   ],
   "source": [
    "# what is the capital of the country with highest population?\n",
    "df[df[\"population\"]==df[\"population\"].max()][\"capital_city\"]"
   ]
  },
  {
   "cell_type": "code",
   "execution_count": 97,
   "id": "9772991c-5fad-459c-9eb5-ffd8f8624b12",
   "metadata": {},
   "outputs": [
    {
     "data": {
      "text/plain": [
       "179    Tuvalu\n",
       "Name: country, dtype: object"
      ]
     },
     "execution_count": 97,
     "metadata": {},
     "output_type": "execute_result"
    }
   ],
   "source": [
    "# which country has least population\n",
    "df[df[\"population\"]==df[\"population\"].min()][\"country\"]"
   ]
  },
  {
   "cell_type": "code",
   "execution_count": 98,
   "id": "f180bf04-1949-4cf4-aa97-24dd066a125e",
   "metadata": {},
   "outputs": [
    {
     "data": {
      "text/plain": [
       "179    Funafuti\n",
       "Name: capital_city, dtype: object"
      ]
     },
     "execution_count": 98,
     "metadata": {},
     "output_type": "execute_result"
    }
   ],
   "source": [
    "# what is the capital of the country with lowest population?\n",
    "df[df[\"population\"]==df[\"population\"].min()][\"capital_city\"]"
   ]
  },
  {
   "cell_type": "code",
   "execution_count": 99,
   "id": "7a830fe3-ed69-4bb6-b16f-5e199913070d",
   "metadata": {},
   "outputs": [
    {
     "data": {
      "text/html": [
       "<div>\n",
       "<style scoped>\n",
       "    .dataframe tbody tr th:only-of-type {\n",
       "        vertical-align: middle;\n",
       "    }\n",
       "\n",
       "    .dataframe tbody tr th {\n",
       "        vertical-align: top;\n",
       "    }\n",
       "\n",
       "    .dataframe thead th {\n",
       "        text-align: right;\n",
       "    }\n",
       "</style>\n",
       "<table border=\"1\" class=\"dataframe\">\n",
       "  <thead>\n",
       "    <tr style=\"text-align: right;\">\n",
       "      <th></th>\n",
       "      <th>country</th>\n",
       "      <th>democracy_score</th>\n",
       "    </tr>\n",
       "  </thead>\n",
       "  <tbody>\n",
       "    <tr>\n",
       "      <th>127</th>\n",
       "      <td>Norway</td>\n",
       "      <td>9.87</td>\n",
       "    </tr>\n",
       "    <tr>\n",
       "      <th>74</th>\n",
       "      <td>Iceland</td>\n",
       "      <td>9.58</td>\n",
       "    </tr>\n",
       "    <tr>\n",
       "      <th>164</th>\n",
       "      <td>Sweden</td>\n",
       "      <td>9.39</td>\n",
       "    </tr>\n",
       "    <tr>\n",
       "      <th>122</th>\n",
       "      <td>New Zealand</td>\n",
       "      <td>9.26</td>\n",
       "    </tr>\n",
       "    <tr>\n",
       "      <th>46</th>\n",
       "      <td>Denmark</td>\n",
       "      <td>9.22</td>\n",
       "    </tr>\n",
       "  </tbody>\n",
       "</table>\n",
       "</div>"
      ],
      "text/plain": [
       "         country  democracy_score\n",
       "127       Norway             9.87\n",
       "74       Iceland             9.58\n",
       "164       Sweden             9.39\n",
       "122  New Zealand             9.26\n",
       "46       Denmark             9.22"
      ]
     },
     "execution_count": 99,
     "metadata": {},
     "output_type": "execute_result"
    }
   ],
   "source": [
    "# give me 5 countries with highest democratic Score\n",
    "top5 = df.nlargest(5, \"democracy_score\")[[\"country\", \"democracy_score\"]]\n",
    "top5"
   ]
  },
  {
   "cell_type": "code",
   "execution_count": 100,
   "id": "6918adf2-5ba8-4cb0-a601-a3f402510da1",
   "metadata": {},
   "outputs": [
    {
     "data": {
      "text/plain": [
       "22"
      ]
     },
     "execution_count": 100,
     "metadata": {},
     "output_type": "execute_result"
    }
   ],
   "source": [
    "#how many total region are there?\n",
    "df[\"region\"].value_counts().count()"
   ]
  },
  {
   "cell_type": "code",
   "execution_count": 101,
   "id": "435cffde-fa44-48e6-b1a4-85d809907b13",
   "metadata": {},
   "outputs": [
    {
     "data": {
      "text/plain": [
       "10"
      ]
     },
     "execution_count": 101,
     "metadata": {},
     "output_type": "execute_result"
    }
   ],
   "source": [
    "#how many countries are there in Eastern Europe region\n",
    "df[\"region\"].value_counts()['Eastern Europe']"
   ]
  },
  {
   "cell_type": "code",
   "execution_count": 102,
   "id": "dc8966eb-8df0-4ece-9c59-276e10101792",
   "metadata": {},
   "outputs": [
    {
     "data": {
      "text/plain": [
       "34    Xi Jinping\n",
       "Name: political_leader, dtype: object"
      ]
     },
     "execution_count": 102,
     "metadata": {},
     "output_type": "execute_result"
    }
   ],
   "source": [
    "# who is the political leader of second highest populated country\n",
    "df[df[\"population\"]==df[\"population\"].nlargest(2).iloc[1]][\"political_leader\"]"
   ]
  },
  {
   "cell_type": "code",
   "execution_count": 103,
   "id": "1a67d9c4-2792-41bc-b5ec-87cbcd452de5",
   "metadata": {},
   "outputs": [
    {
     "data": {
      "text/plain": [
       "7"
      ]
     },
     "execution_count": 103,
     "metadata": {},
     "output_type": "execute_result"
    }
   ],
   "source": [
    "# how many countries are there whose political leader are unknown\n",
    "df[df[\"political_leader\"].isna()][\"country\"].count()"
   ]
  },
  {
   "cell_type": "code",
   "execution_count": 104,
   "id": "e03f549b-250f-4254-9f09-b65351859e1f",
   "metadata": {},
   "outputs": [
    {
     "name": "stdout",
     "output_type": "stream",
     "text": [
      "125\n"
     ]
    }
   ],
   "source": [
    "# how many countries have republic in their name?\n",
    "count=0\n",
    "def counting(txt):\n",
    "    global count\n",
    "    if 'republic' in txt.lower():\n",
    "        count+=1\n",
    "    return txt\n",
    "\n",
    "df['country_long'].apply(counting)\n",
    "print(count)"
   ]
  },
  {
   "cell_type": "code",
   "execution_count": 105,
   "id": "4fdc61fb-70cc-42b2-8f36-e2bb613438a5",
   "metadata": {},
   "outputs": [
    {
     "data": {
      "text/plain": [
       "125    Nigeria\n",
       "Name: country, dtype: object"
      ]
     },
     "execution_count": 105,
     "metadata": {},
     "output_type": "execute_result"
    }
   ],
   "source": [
    "# which country in african region has highest population\n",
    "african_df= df[df['continent']==\"Africa\"]\n",
    "african_df[african_df['population']==african_df['population'].max()][\"country\"]"
   ]
  },
  {
   "cell_type": "code",
   "execution_count": null,
   "id": "8b3c3e6e-e90e-4474-ad3f-0ece0a6840fd",
   "metadata": {},
   "outputs": [],
   "source": []
  }
 ],
 "metadata": {
  "kernelspec": {
   "display_name": "Python 3 (ipykernel)",
   "language": "python",
   "name": "python3"
  },
  "language_info": {
   "codemirror_mode": {
    "name": "ipython",
    "version": 3
   },
   "file_extension": ".py",
   "mimetype": "text/x-python",
   "name": "python",
   "nbconvert_exporter": "python",
   "pygments_lexer": "ipython3",
   "version": "3.11.7"
  }
 },
 "nbformat": 4,
 "nbformat_minor": 5
}
