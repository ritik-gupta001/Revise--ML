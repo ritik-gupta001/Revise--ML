{
 "cells": [
  {
   "cell_type": "markdown",
   "id": "f905d722-740e-4afb-945a-1252dde1e47c",
   "metadata": {},
   "source": [
    "# Pandas Series\n",
    "\n",
    "A Series is a one-dimensional labeled array capable of holding any data type. The axis labels are collectively called the index."
   ]
  },
  {
   "cell_type": "markdown",
   "id": "44d5fa51-790d-45a5-a9f5-96258b3b7d8f",
   "metadata": {},
   "source": [
    "## Creating Series\n",
    "There are multiple ways to create a pandas Series:"
   ]
  },
  {
   "cell_type": "code",
   "execution_count": 10,
   "id": "42993f65-0c35-48bb-ba98-a1215f5a76c0",
   "metadata": {},
   "outputs": [],
   "source": [
    "import numpy as np\n",
    "import pandas as pd"
   ]
  },
  {
   "cell_type": "code",
   "execution_count": 11,
   "id": "76a76763-b1e0-4a5f-97bc-300d6dc14041",
   "metadata": {},
   "outputs": [],
   "source": [
    "labels=['a','b','c']\n",
    "my_list=[10,20,30]\n",
    "arr=np.array([10,20,30])\n",
    "d={1:10,2:20,3:30}"
   ]
  },
  {
   "cell_type": "code",
   "execution_count": 12,
   "id": "77d4964e-3323-4142-b002-a707bf71f1dc",
   "metadata": {},
   "outputs": [
    {
     "data": {
      "text/plain": [
       "0    10\n",
       "1    20\n",
       "2    30\n",
       "dtype: int64"
      ]
     },
     "execution_count": 12,
     "metadata": {},
     "output_type": "execute_result"
    }
   ],
   "source": [
    "pd.Series(my_list)"
   ]
  },
  {
   "cell_type": "code",
   "execution_count": 13,
   "id": "12525300-3c6b-463a-8373-bf72451a5a80",
   "metadata": {},
   "outputs": [
    {
     "data": {
      "text/plain": [
       "a    10\n",
       "b    20\n",
       "c    30\n",
       "dtype: int64"
      ]
     },
     "execution_count": 13,
     "metadata": {},
     "output_type": "execute_result"
    }
   ],
   "source": [
    "pd.Series(my_list,index=labels)"
   ]
  },
  {
   "cell_type": "code",
   "execution_count": 14,
   "id": "9226c3b6-82a2-4f4d-8f1a-3a2793705eac",
   "metadata": {},
   "outputs": [
    {
     "data": {
      "text/plain": [
       "0    10\n",
       "1    20\n",
       "2    30\n",
       "dtype: int32"
      ]
     },
     "execution_count": 14,
     "metadata": {},
     "output_type": "execute_result"
    }
   ],
   "source": [
    "pd.Series(arr)"
   ]
  },
  {
   "cell_type": "code",
   "execution_count": 15,
   "id": "76bb2dad-3bb9-4273-b51c-f9a59dd8a103",
   "metadata": {},
   "outputs": [
    {
     "data": {
      "text/plain": [
       "1    10\n",
       "2    20\n",
       "3    30\n",
       "dtype: int64"
      ]
     },
     "execution_count": 15,
     "metadata": {},
     "output_type": "execute_result"
    }
   ],
   "source": [
    "pd.Series(d)"
   ]
  },
  {
   "cell_type": "code",
   "execution_count": null,
   "id": "c3667cbc-4619-4d89-9766-a5b3ce12a67a",
   "metadata": {},
   "outputs": [],
   "source": []
  }
 ],
 "metadata": {
  "kernelspec": {
   "display_name": "Python 3 (ipykernel)",
   "language": "python",
   "name": "python3"
  },
  "language_info": {
   "codemirror_mode": {
    "name": "ipython",
    "version": 3
   },
   "file_extension": ".py",
   "mimetype": "text/x-python",
   "name": "python",
   "nbconvert_exporter": "python",
   "pygments_lexer": "ipython3",
   "version": "3.11.7"
  }
 },
 "nbformat": 4,
 "nbformat_minor": 5
}
