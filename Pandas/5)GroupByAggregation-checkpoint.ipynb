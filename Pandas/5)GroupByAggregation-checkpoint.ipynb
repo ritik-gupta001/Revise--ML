{
 "cells": [
  {
   "cell_type": "code",
   "execution_count": 40,
   "id": "6f60df6a-c402-4152-8087-1354eb0181aa",
   "metadata": {},
   "outputs": [],
   "source": [
    "import pandas as pd\n",
    "import numpy as np"
   ]
  },
  {
   "cell_type": "markdown",
   "id": "82bee9a1-5f9b-47f1-a539-335e53b68f7e",
   "metadata": {},
   "source": [
    "**GroupBy**"
   ]
  },
  {
   "cell_type": "code",
   "execution_count": 41,
   "id": "591908ee-01d2-4272-9ebd-241e4b5b52dc",
   "metadata": {},
   "outputs": [],
   "source": [
    "data={\n",
    "    'Category':['A','B','A','B','A','B','A','B'],\n",
    "    'Store':['S2','S2','S1','S1','S2','S2','S1','S2'],\n",
    "    'Sales':[100,200,150,250,120,180,200,300],\n",
    "    'Quantity':[10,15,12,18,8,20,15,25],\n",
    "    'Date':pd.date_range('2023-01-01',periods=8)    \n",
    "}\n",
    "df=pd.DataFrame(data)"
   ]
  },
  {
   "cell_type": "code",
   "execution_count": 42,
   "id": "91800cf6-d8b2-4441-a6df-a0171be310ae",
   "metadata": {},
   "outputs": [
    {
     "data": {
      "text/html": [
       "<div>\n",
       "<style scoped>\n",
       "    .dataframe tbody tr th:only-of-type {\n",
       "        vertical-align: middle;\n",
       "    }\n",
       "\n",
       "    .dataframe tbody tr th {\n",
       "        vertical-align: top;\n",
       "    }\n",
       "\n",
       "    .dataframe thead th {\n",
       "        text-align: right;\n",
       "    }\n",
       "</style>\n",
       "<table border=\"1\" class=\"dataframe\">\n",
       "  <thead>\n",
       "    <tr style=\"text-align: right;\">\n",
       "      <th></th>\n",
       "      <th>Category</th>\n",
       "      <th>Store</th>\n",
       "      <th>Sales</th>\n",
       "      <th>Quantity</th>\n",
       "      <th>Date</th>\n",
       "    </tr>\n",
       "  </thead>\n",
       "  <tbody>\n",
       "    <tr>\n",
       "      <th>0</th>\n",
       "      <td>A</td>\n",
       "      <td>S2</td>\n",
       "      <td>100</td>\n",
       "      <td>10</td>\n",
       "      <td>2023-01-01</td>\n",
       "    </tr>\n",
       "    <tr>\n",
       "      <th>1</th>\n",
       "      <td>B</td>\n",
       "      <td>S2</td>\n",
       "      <td>200</td>\n",
       "      <td>15</td>\n",
       "      <td>2023-01-02</td>\n",
       "    </tr>\n",
       "    <tr>\n",
       "      <th>2</th>\n",
       "      <td>A</td>\n",
       "      <td>S1</td>\n",
       "      <td>150</td>\n",
       "      <td>12</td>\n",
       "      <td>2023-01-03</td>\n",
       "    </tr>\n",
       "    <tr>\n",
       "      <th>3</th>\n",
       "      <td>B</td>\n",
       "      <td>S1</td>\n",
       "      <td>250</td>\n",
       "      <td>18</td>\n",
       "      <td>2023-01-04</td>\n",
       "    </tr>\n",
       "    <tr>\n",
       "      <th>4</th>\n",
       "      <td>A</td>\n",
       "      <td>S2</td>\n",
       "      <td>120</td>\n",
       "      <td>8</td>\n",
       "      <td>2023-01-05</td>\n",
       "    </tr>\n",
       "    <tr>\n",
       "      <th>5</th>\n",
       "      <td>B</td>\n",
       "      <td>S2</td>\n",
       "      <td>180</td>\n",
       "      <td>20</td>\n",
       "      <td>2023-01-06</td>\n",
       "    </tr>\n",
       "    <tr>\n",
       "      <th>6</th>\n",
       "      <td>A</td>\n",
       "      <td>S1</td>\n",
       "      <td>200</td>\n",
       "      <td>15</td>\n",
       "      <td>2023-01-07</td>\n",
       "    </tr>\n",
       "    <tr>\n",
       "      <th>7</th>\n",
       "      <td>B</td>\n",
       "      <td>S2</td>\n",
       "      <td>300</td>\n",
       "      <td>25</td>\n",
       "      <td>2023-01-08</td>\n",
       "    </tr>\n",
       "  </tbody>\n",
       "</table>\n",
       "</div>"
      ],
      "text/plain": [
       "  Category Store  Sales  Quantity       Date\n",
       "0        A    S2    100        10 2023-01-01\n",
       "1        B    S2    200        15 2023-01-02\n",
       "2        A    S1    150        12 2023-01-03\n",
       "3        B    S1    250        18 2023-01-04\n",
       "4        A    S2    120         8 2023-01-05\n",
       "5        B    S2    180        20 2023-01-06\n",
       "6        A    S1    200        15 2023-01-07\n",
       "7        B    S2    300        25 2023-01-08"
      ]
     },
     "execution_count": 42,
     "metadata": {},
     "output_type": "execute_result"
    }
   ],
   "source": [
    "df"
   ]
  },
  {
   "cell_type": "code",
   "execution_count": 43,
   "id": "f0e4637e-6c39-4bf0-8bf6-919f76fd1ad8",
   "metadata": {},
   "outputs": [
    {
     "data": {
      "text/plain": [
       "Category\n",
       "A    570\n",
       "B    930\n",
       "Name: Sales, dtype: int64"
      ]
     },
     "execution_count": 43,
     "metadata": {},
     "output_type": "execute_result"
    }
   ],
   "source": [
    "# group by category and calculate the sum of sales\n",
    "df.groupby('Category')['Sales'].sum()"
   ]
  },
  {
   "cell_type": "code",
   "execution_count": 44,
   "id": "8118ed0a-79b4-4349-9397-ced6f6d86022",
   "metadata": {},
   "outputs": [
    {
     "data": {
      "text/plain": [
       "Store\n",
       "S1    600\n",
       "S2    900\n",
       "Name: Sales, dtype: int64"
      ]
     },
     "execution_count": 44,
     "metadata": {},
     "output_type": "execute_result"
    }
   ],
   "source": [
    "# group by store and calculate the sum of sales\n",
    "df.groupby('Store')['Sales'].sum()"
   ]
  },
  {
   "cell_type": "code",
   "execution_count": 45,
   "id": "1f71fe3a-dc4c-488e-8f57-060588433b78",
   "metadata": {},
   "outputs": [
    {
     "data": {
      "text/plain": [
       "Category  Store\n",
       "A         S1       350\n",
       "          S2       220\n",
       "B         S1       250\n",
       "          S2       680\n",
       "Name: Sales, dtype: int64"
      ]
     },
     "execution_count": 45,
     "metadata": {},
     "output_type": "execute_result"
    }
   ],
   "source": [
    "# Groupby multiple columns\n",
    "# groupby category and store\n",
    "df.groupby(['Category','Store'])['Sales'].sum()"
   ]
  },
  {
   "cell_type": "code",
   "execution_count": null,
   "id": "f0883900-29d6-4232-964f-f0e6ff8802ec",
   "metadata": {},
   "outputs": [],
   "source": []
  },
  {
   "cell_type": "markdown",
   "id": "08f8946b-6494-44f0-b9cb-4861cd27edfc",
   "metadata": {},
   "source": [
    "**Aggregation**"
   ]
  },
  {
   "cell_type": "code",
   "execution_count": 46,
   "id": "0faadbc7-b4fd-4d68-87f5-3c01663c5f46",
   "metadata": {},
   "outputs": [
    {
     "data": {
      "text/plain": [
       "187.5"
      ]
     },
     "execution_count": 46,
     "metadata": {},
     "output_type": "execute_result"
    }
   ],
   "source": [
    "df['Sales'].mean()"
   ]
  },
  {
   "cell_type": "code",
   "execution_count": 47,
   "id": "09ca3c3e-e6a3-4393-b998-8054af63f2b1",
   "metadata": {},
   "outputs": [
    {
     "data": {
      "text/plain": [
       "190.0"
      ]
     },
     "execution_count": 47,
     "metadata": {},
     "output_type": "execute_result"
    }
   ],
   "source": [
    "df['Sales'].median()"
   ]
  },
  {
   "cell_type": "code",
   "execution_count": 48,
   "id": "11947b1c-fafd-4b87-a06f-a4e731bf6300",
   "metadata": {},
   "outputs": [
    {
     "data": {
      "text/plain": [
       "100"
      ]
     },
     "execution_count": 48,
     "metadata": {},
     "output_type": "execute_result"
    }
   ],
   "source": [
    "df['Sales'].min()"
   ]
  },
  {
   "cell_type": "code",
   "execution_count": 49,
   "id": "49a0311e-7dc5-4dc8-af54-a4b19bac3179",
   "metadata": {},
   "outputs": [
    {
     "data": {
      "text/plain": [
       "300"
      ]
     },
     "execution_count": 49,
     "metadata": {},
     "output_type": "execute_result"
    }
   ],
   "source": [
    "df['Sales'].max()"
   ]
  },
  {
   "cell_type": "code",
   "execution_count": 50,
   "id": "95a34a86-757a-4bfa-85fc-1dab619eed97",
   "metadata": {},
   "outputs": [
    {
     "data": {
      "text/plain": [
       "8"
      ]
     },
     "execution_count": 50,
     "metadata": {},
     "output_type": "execute_result"
    }
   ],
   "source": [
    "df['Sales'].count()"
   ]
  },
  {
   "cell_type": "code",
   "execution_count": 51,
   "id": "12bae099-3b29-4d44-bf08-8caf683f535b",
   "metadata": {},
   "outputs": [
    {
     "data": {
      "text/plain": [
       "66.06274074155351"
      ]
     },
     "execution_count": 51,
     "metadata": {},
     "output_type": "execute_result"
    }
   ],
   "source": [
    "df['Sales'].std()"
   ]
  },
  {
   "cell_type": "code",
   "execution_count": 52,
   "id": "d346b6fe-0288-4c9d-b26f-db80014d11f2",
   "metadata": {},
   "outputs": [
    {
     "data": {
      "text/plain": [
       "mean      187.500000\n",
       "median    190.000000\n",
       "min       100.000000\n",
       "max       300.000000\n",
       "count       8.000000\n",
       "std        66.062741\n",
       "Name: Sales, dtype: float64"
      ]
     },
     "execution_count": 52,
     "metadata": {},
     "output_type": "execute_result"
    }
   ],
   "source": [
    "df['Sales'].agg(['mean','median','min','max','count','std'])"
   ]
  },
  {
   "cell_type": "code",
   "execution_count": null,
   "id": "37ea0489-b5b4-4970-9769-6804548780a4",
   "metadata": {},
   "outputs": [],
   "source": []
  }
 ],
 "metadata": {
  "kernelspec": {
   "display_name": "Python 3 (ipykernel)",
   "language": "python",
   "name": "python3"
  },
  "language_info": {
   "codemirror_mode": {
    "name": "ipython",
    "version": 3
   },
   "file_extension": ".py",
   "mimetype": "text/x-python",
   "name": "python",
   "nbconvert_exporter": "python",
   "pygments_lexer": "ipython3",
   "version": "3.11.7"
  }
 },
 "nbformat": 4,
 "nbformat_minor": 5
}
