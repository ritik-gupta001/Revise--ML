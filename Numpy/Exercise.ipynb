{
 "cells": [
  {
   "cell_type": "code",
   "execution_count": 91,
   "id": "60037bf9-6e1a-42d8-ac6c-32b78e64fd13",
   "metadata": {},
   "outputs": [],
   "source": [
    "import numpy as np\n"
   ]
  },
  {
   "cell_type": "markdown",
   "id": "19b8cccb-4261-453a-98d2-eada9b1f59dd",
   "metadata": {},
   "source": [
    "## ***Valid Soduku***"
   ]
  },
  {
   "cell_type": "code",
   "execution_count": 92,
   "id": "4f3ff348-9200-437a-b884-c7a662d62859",
   "metadata": {},
   "outputs": [],
   "source": [
    "s = np.array([\n",
    "    [5, 3, 4, 6, 7, 8, 9, 1, 2],\n",
    "    [6, 7, 2, 1, 9, 5, 3, 4, 8],\n",
    "    [1, 9, 8, 3, 4, 2, 5, 6, 7],\n",
    "    \n",
    "    [8, 5, 9, 7, 6, 1, 4, 2, 3],\n",
    "    [4, 2, 6, 8, 5, 3, 7, 9, 1],\n",
    "    [7, 1, 3, 9, 2, 4, 8, 5, 6],\n",
    "    \n",
    "    [9, 6, 1, 5, 3, 7, 2, 8, 4],\n",
    "    [2, 8, 7, 4, 1, 9, 6, 3, 5],\n",
    "    [3, 4, 5, 2, 8, 6, 1, 7, 9]\n",
    "])"
   ]
  },
  {
   "cell_type": "code",
   "execution_count": 93,
   "id": "807a338b-2ac9-4cce-9299-d437a49176d0",
   "metadata": {},
   "outputs": [
    {
     "name": "stdout",
     "output_type": "stream",
     "text": [
      "it is valid for rows\n"
     ]
    }
   ],
   "source": [
    "b=np.sum(s,axis=1)\n",
    "for i in b:\n",
    "    if i!=45:\n",
    "        print(\"Soduku is not valid \")\n",
    "        break\n",
    "else:\n",
    "        print(\"it is valid for rows\")"
   ]
  },
  {
   "cell_type": "code",
   "execution_count": 94,
   "id": "41f755a5-9356-42bd-b0fa-9f6ff0305491",
   "metadata": {},
   "outputs": [
    {
     "name": "stdout",
     "output_type": "stream",
     "text": [
      "it is valid for columns\n"
     ]
    }
   ],
   "source": [
    "c=np.sum(s,axis=0)\n",
    "for i in c:\n",
    "    if i!=45:\n",
    "        print(\"Soduku is not valid \")\n",
    "        break\n",
    "else:\n",
    "        print(\"it is valid for columns\")"
   ]
  },
  {
   "cell_type": "code",
   "execution_count": 95,
   "id": "a30ce7c3-a051-4f8b-8d54-65ea59771e10",
   "metadata": {},
   "outputs": [
    {
     "name": "stdout",
     "output_type": "stream",
     "text": [
      "45\n",
      "45\n",
      "45\n",
      "45\n",
      "45\n",
      "45\n",
      "45\n",
      "45\n",
      "45\n"
     ]
    }
   ],
   "source": [
    "for i in range(0,9,3):\n",
    "    for j in range(0,9,3):\n",
    "        n=s[i:i+3,j:j+3]\n",
    "        print(n.sum())"
   ]
  },
  {
   "cell_type": "markdown",
   "id": "2e68f064-15ef-48a7-9d4f-1d9180f464b0",
   "metadata": {},
   "source": [
    "Since all the sum are equal...row wise ,column wise and 3*3 pairs this is a valid soduku!!!"
   ]
  },
  {
   "cell_type": "markdown",
   "id": "22c6da9e-ee53-42e1-9468-117c65e7b3e6",
   "metadata": {},
   "source": [
    "## ***General Question***"
   ]
  },
  {
   "cell_type": "code",
   "execution_count": 96,
   "id": "1fec5af5-8fa3-4478-b188-373ad22784ec",
   "metadata": {},
   "outputs": [],
   "source": [
    "# Columns: [Age, Math Marks, Science Marks]\n",
    "data = np.array([\n",
    "    [18, 85, 78],   # Student 1\n",
    "    [19, 92, 88],   # Student 2\n",
    "    [17, 76, 95],   # Student 3\n",
    "    [18, 65, 70],   # Student 4\n",
    "    [20, 90, 85]    # Student 5\n",
    "])"
   ]
  },
  {
   "cell_type": "code",
   "execution_count": 97,
   "id": "14c9578b-b1e8-4b8a-80f6-aab00dea90b8",
   "metadata": {},
   "outputs": [
    {
     "data": {
      "text/plain": [
       "(5, 3)"
      ]
     },
     "execution_count": 97,
     "metadata": {},
     "output_type": "execute_result"
    }
   ],
   "source": [
    "#Get the shape of the matrix.\n",
    "data.shape"
   ]
  },
  {
   "cell_type": "code",
   "execution_count": 98,
   "id": "31067ae6-5062-4fe5-90de-05a057c306b6",
   "metadata": {},
   "outputs": [
    {
     "data": {
      "text/plain": [
       "18.4"
      ]
     },
     "execution_count": 98,
     "metadata": {},
     "output_type": "execute_result"
    }
   ],
   "source": [
    "#Find the average age of students.\n",
    "np.mean(data[:,0])"
   ]
  },
  {
   "cell_type": "code",
   "execution_count": 99,
   "id": "2bb45d25-942d-4ba0-ba8d-c586f28d5a95",
   "metadata": {},
   "outputs": [
    {
     "data": {
      "text/plain": [
       "array([85, 92, 76, 65, 90])"
      ]
     },
     "execution_count": 99,
     "metadata": {},
     "output_type": "execute_result"
    }
   ],
   "source": [
    "#Extract Math marks of all students.\n",
    "data[:,1]"
   ]
  },
  {
   "cell_type": "code",
   "execution_count": 100,
   "id": "3ebb470c-45fc-43f3-97fe-c5861619b251",
   "metadata": {},
   "outputs": [
    {
     "data": {
      "text/plain": [
       "95"
      ]
     },
     "execution_count": 100,
     "metadata": {},
     "output_type": "execute_result"
    }
   ],
   "source": [
    "#Find the highest Science mark.\n",
    "np.max(data[:,2])"
   ]
  },
  {
   "cell_type": "code",
   "execution_count": 101,
   "id": "fa09f257-395b-4730-9bff-52a95fab215e",
   "metadata": {},
   "outputs": [
    {
     "data": {
      "text/plain": [
       "array([[19, 92, 88]])"
      ]
     },
     "execution_count": 101,
     "metadata": {},
     "output_type": "execute_result"
    }
   ],
   "source": [
    "#Get details of the student who scored more than 90 in Math.\n",
    "data[data[:,1]>90]"
   ]
  },
  {
   "cell_type": "code",
   "execution_count": 102,
   "id": "816dff3a-5463-4ea4-88c0-3b9c3f4dfee5",
   "metadata": {},
   "outputs": [
    {
     "data": {
      "text/plain": [
       "array([90, 97, 81, 70, 95])"
      ]
     },
     "execution_count": 102,
     "metadata": {},
     "output_type": "execute_result"
    }
   ],
   "source": [
    "#Increase Math marks of all students by 5.\n",
    "data[:,1]+5"
   ]
  },
  {
   "cell_type": "code",
   "execution_count": 103,
   "id": "513ab22c-88db-486d-a567-38d4c44c8c39",
   "metadata": {},
   "outputs": [
    {
     "data": {
      "text/plain": [
       "3"
      ]
     },
     "execution_count": 103,
     "metadata": {},
     "output_type": "execute_result"
    }
   ],
   "source": [
    "#Find how many students are younger than 19.\n",
    "len(data[data[:,0]<19])"
   ]
  },
  {
   "cell_type": "code",
   "execution_count": 104,
   "id": "742393d0-933f-4dba-9b85-2552229fcb28",
   "metadata": {},
   "outputs": [
    {
     "data": {
      "text/plain": [
       "array([81.6, 83.2])"
      ]
     },
     "execution_count": 104,
     "metadata": {},
     "output_type": "execute_result"
    }
   ],
   "source": [
    "#Calculate the average marks in each subject (column-wise mean).\n",
    "np.mean(data[:,1:],axis=0)"
   ]
  },
  {
   "cell_type": "code",
   "execution_count": 105,
   "id": "1c1714d8-0abc-4368-b46a-a2a35a118ff7",
   "metadata": {},
   "outputs": [
    {
     "data": {
      "text/plain": [
       "array([[19, 92, 88],\n",
       "       [20, 90, 85]])"
      ]
     },
     "execution_count": 105,
     "metadata": {},
     "output_type": "execute_result"
    }
   ],
   "source": [
    "#Get data of students who scored at least 80 in both subjects.\n",
    "data[(data[:,1]>=80) & (data[:,2]>=80)]"
   ]
  },
  {
   "cell_type": "code",
   "execution_count": 106,
   "id": "d6cbd123-94d9-4869-b621-27920fdcd657",
   "metadata": {},
   "outputs": [],
   "source": [
    "#Replace all Science marks < 75 with 0.\n",
    "data[:,2][data[:,2] < 75] =0"
   ]
  },
  {
   "cell_type": "code",
   "execution_count": 107,
   "id": "7767e091-bb0c-4b55-b0dd-5c7643a1a3c9",
   "metadata": {},
   "outputs": [
    {
     "data": {
      "text/plain": [
       "array([[18, 85, 78],\n",
       "       [19, 92, 88],\n",
       "       [17, 76, 95],\n",
       "       [18, 65,  0],\n",
       "       [20, 90, 85]])"
      ]
     },
     "execution_count": 107,
     "metadata": {},
     "output_type": "execute_result"
    }
   ],
   "source": [
    "data"
   ]
  },
  {
   "cell_type": "code",
   "execution_count": null,
   "id": "635336f0-8c25-4f99-ada4-bfd35a32c04d",
   "metadata": {},
   "outputs": [],
   "source": []
  }
 ],
 "metadata": {
  "kernelspec": {
   "display_name": "Python 3 (ipykernel)",
   "language": "python",
   "name": "python3"
  },
  "language_info": {
   "codemirror_mode": {
    "name": "ipython",
    "version": 3
   },
   "file_extension": ".py",
   "mimetype": "text/x-python",
   "name": "python",
   "nbconvert_exporter": "python",
   "pygments_lexer": "ipython3",
   "version": "3.11.7"
  }
 },
 "nbformat": 4,
 "nbformat_minor": 5
}
